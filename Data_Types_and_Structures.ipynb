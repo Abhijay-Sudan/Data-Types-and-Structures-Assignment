{
  "nbformat": 4,
  "nbformat_minor": 0,
  "metadata": {
    "colab": {
      "provenance": []
    },
    "kernelspec": {
      "name": "python3",
      "display_name": "Python 3"
    },
    "language_info": {
      "name": "python"
    }
  },
  "cells": [
    {
      "cell_type": "markdown",
      "source": [
        "# Data Types and Structures\n",
        "\n",
        "1. What are data structures, and why are they important?\n",
        "   - Data structures are specialized formats used to organize, store, and manage data efficiently in a computer. They define the relationship between the data and the operations that can be performed on that data. In Python, data structures play a critical role in writing efficient, readable, and maintainable code.\n",
        "\n",
        "  Importance of data structures:\n",
        "   \n",
        "    Help in organizing and storing data efficiently.\n",
        "\n",
        "    Enable faster data access and manipulation.\n",
        "\n",
        "    Improve the performance of programs.\n",
        "\n",
        "    Make code cleaner and easier to understand.\n",
        "\n",
        "    Support implementation of complex algorithms.\n",
        "\n",
        "    Allow optimal use of memory and processing power.\n",
        "\n",
        "    Provide built-in solutions for common programming tasks.\n",
        "2. Explain the difference between mutable and immutable data types with examples.\n",
        "   - Mutable data types are those whose values can be changed or modified after the object is created, without changing the object’s identity.\n",
        "\n",
        "  Common Examples:\n",
        "\n",
        "    List (list)\n",
        "\n",
        "    Dictionary (dict)\n",
        "\n",
        "    Set (set)\n",
        "\n",
        "    Bytearray (bytearray)\n",
        "  - Immutable data types are those whose values cannot be changed after the object is created. Any attempt to modify them results in the creation of a new object.\n",
        "\n",
        "  Common Examples:\n",
        "\n",
        "    Integer (int)\n",
        "\n",
        "    Float (float)\n",
        "\n",
        "    String (str)\n",
        "\n",
        "    Tuple (tuple)\n",
        "\n",
        "    Boolean (bool)\n",
        "\n",
        "    Frozenset (frozenset)\n",
        "3. What are the main differences between lists and tuples in Python?\n",
        "   - Main parameters of their differences are mentioned below:\n",
        "\n",
        "    a)Mutability: Lists are mutable, while tuples are immutable.\n",
        "\n",
        "    b)Syntax: Lists use square brackets [ ], whereas tuples use parentheses ( ).\n",
        "\n",
        "    c)Modification: Elements in a list can be changed; tuple elements cannot be modified.\n",
        "\n",
        "    d)Methods: Lists support many methods like append(), pop(), remove(); tuples support fewer methods.\n",
        "\n",
        "    e)Performance: Tuples are generally faster and more memory-efficient than lists.\n",
        "\n",
        "    f)Use Cases: Lists are used when data needs to be updated; tuples are used for fixed, constant data.\n",
        "\n",
        "    g)Memory Usage: Lists take more memory; tuples use less memory.\n",
        "\n",
        "    h)Hashability: Tuples can be used as dictionary keys (if all elements are immutable); lists cannot.\n",
        "4.  Describe how dictionaries store data.\n",
        "    - In Python, a dictionary is a built-in data structure that stores data in the form of key-value pairs. Each key is unique and is used to access its corresponding value. Dictionaries are defined using curly braces { }, with keys and values separated by a colon :.\n",
        "\n",
        "    Internally, dictionaries use a hash table to store data. When a key-value pair is added, Python computes a hash value for the key using a built-in hash function. This hash value determines the index where the key-value pair is stored in memory. Because of this mechanism, accessing values by their keys is very fast—usually in constant time, O(1). Only immutable data types (like strings, numbers, or tuples with immutable elements) can be used as keys, while values can be of any data type and can even be duplicates.\n",
        "\n",
        "    Eg:\n",
        "\n",
        "student = {\"name\": \"Alice\", \"age\": 20, \"grade\": \"A\"}\n",
        "\n",
        "print(student[\"name\"])  # Output: Alice\n",
        "\n",
        "In this example, \"name\", \"age\", and \"grade\" are the keys, and \"Alice\", 20, and \"A\" are their respective values.\n",
        "5. Why might you use a set instead of a list in Python?\n",
        "   - In Python, a set is an unordered collection of unique elements, whereas a list is an ordered collection that can contain duplicates. You might choose to use a set instead of a list in situations where uniqueness of elements is required and order does not matter.\n",
        "\n",
        "    Sets are also more efficient for membership testing (i.e., checking whether an item exists in the collection). Sets also support operations like union, intersection, and difference, making them useful for mathematical set operations or filtering data.\n",
        "6. What is a string in Python, and how is it different from a list?\n",
        "    - In Python, a string is a sequence of characters enclosed within single quotes (' ') or double quotes (\" \"). Strings are used to represent textual data such as names, messages, or any series of characters. For example: \"Hello, World\" is a string containing letters, punctuation, and spaces.\n",
        "\n",
        "    While both strings and lists are sequences and can be indexed or sliced, they have several key differences:\n",
        "\n",
        "    Data Type:\n",
        "\n",
        "    -A string stores characters only.\n",
        "\n",
        "    -A list can store items of any data type, including strings, numbers, or even other lists.\n",
        "\n",
        "    Mutability:\n",
        "\n",
        "    -Strings are immutable (cannot be changed after creation).\n",
        "\n",
        "    -Lists are mutable (elements can be changed, added, or removed).\n",
        "\n",
        "    Syntax:\n",
        "\n",
        "    -Strings are written with quotes (\"Hello\").\n",
        "\n",
        "    -Lists are written with square brackets ([\"H\", \"e\", \"l\", \"l\", \"o\"]).\n",
        "7. How do tuples ensure data integrity in Python?\n",
        "   - In Python 3, a tuple is an ordered and immutable collection of elements. Once a tuple is created, its elements cannot be changed, added, or removed. This immutability is what helps ensure data integrity.\n",
        "\n",
        "    By preventing modifications, tuples protect data from accidental changes during program execution. This is especially important when passing data between functions or when using data as keys in dictionaries. Because tuples are fixed and hashable (if all their elements are immutable), they are reliable and secure containers for storing constant values or read-only data.\n",
        "8.  What is a hash table, and how does it relate to dictionaries in Python?\n",
        "    - A hash table is a data structure that stores data in an unordered collection of key-value pairs, allowing for fast data retrieval. It works by using a hash function to convert each key into a unique index (called a hash code), which determines where the corresponding value is stored in memory.\n",
        "\n",
        "    In Python, the dictionary (dict) is implemented using a hash table behind the scenes. When a key-value pair is added to a dictionary, Python computes the hash of the key and uses it to determine the exact location in memory where the value should be stored. This allows for efficient operations, such as insertion, deletion, and lookup—typically in constant time, O(1).\n",
        "9. Can lists contain different data types in Python?\n",
        "   - Yes, in Python, lists can contain elements of different data types. A list is a versatile and flexible data structure that allows you to store a collection of items, including integers, floats, strings, booleans, other lists, and even custom objects—all within the same list.\n",
        "10. Explain why strings are immutable in Python.\n",
        "    - One reason for string immutability is that strings are widely used as keys in dictionaries and elements in sets, both of which rely on hash values. If strings were mutable, their hash values could change, breaking the reliability of data retrieval. Additionally, immutability enhances security, especially when strings are used in sensitive operations like file paths, database queries, or network requests—ensuring the data cannot be altered unexpectedly. It also allows Python to optimize memory usage by reusing the same string object in multiple places (known as string interning), improving efficiency.\n",
        "11. What advantages do dictionaries offer over lists for certain tasks?\n",
        "    - Dictionaries in Python offer several key advantages over lists, especially when working with key-based data access and structured data.\n",
        "\n",
        "    a)Faster Lookups:\n",
        "    Dictionaries provide constant time (O(1)) access to values using keys, whereas lists require linear time (O(n)) to search for an element by value or index.\n",
        "\n",
        "    b)Key-Value Storage:\n",
        "    Dictionaries store data in key-value pairs, making them ideal for representing structured information (e.g., a person's details like name, age, and email).\n",
        "\n",
        "    c)Improved Readability:\n",
        "    Accessing values by keys (e.g., person[\"name\"]) is more readable and meaningful than using index positions in a list (e.g., person[0]).\n",
        "\n",
        "    d)No Need to Remember Indexes:\n",
        "    Unlike lists, where the order matters, dictionaries allow data retrieval using descriptive keys, reducing errors and improving code clarity.\n",
        "\n",
        "    e)Dynamic and Flexible:\n",
        "    You can easily add, update, or remove entries in a dictionary without worrying about the position of the data.\n",
        "12. Describe a scenario where using a tuple would be preferable over a list.\n",
        "    - A tuple would be preferable over a list when you need to store a fixed collection of values that should not change during the program's execution. Since tuples are immutable, they help ensure data integrity by preventing accidental modification of the data.\n",
        "\n",
        "    Example Scenario:\n",
        "    Consider a program that stores the geographic coordinates (latitude and longitude) of a location:\n",
        "\n",
        "    coordinates = (40.7128, -74.0060)  # Tuple used to store fixed values\n",
        "\n",
        "    In this case, a tuple is ideal because the latitude and longitude values are constant for that location and should not be changed. Using a list would allow modifications, which could lead to unintentional data errors.\n",
        "13. How do sets handle duplicate values in Python?\n",
        "    - In Python, sets automatically eliminate duplicate values. A set is an unordered collection of unique elements, meaning that no element can appear more than once.\n",
        "\n",
        "    When we add duplicate values to a set, Python automatically removes the duplicates and keeps only one instance of each unique item. This behavior makes sets useful for tasks like removing duplicates from a list or checking for unique values in a collection.\n",
        "14. How does the “in” keyword work differently for lists and dictionaries?\n",
        "    - In Python, the in keyword is used to check if a value exists within a collection. However, its behavior differs depending on whether it's used with a list or a dictionary.\n",
        "\n",
        "    In Lists:\n",
        "    The in keyword checks if the value exists among the list elements.\n",
        "\n",
        "    my_list = [1, 2, 3]\n",
        "    print(2 in my_list)  # Output: True\n",
        "      \n",
        "    In Dictionaries:\n",
        "    The in keyword checks only for the presence of a key, not the value.\n",
        "\n",
        "\n",
        "    my_dict = {\"name\": \"Alice\", \"age\": 25}\n",
        "    print(\"name\" in my_dict)   # Output: True\n",
        "    print(\"Alice\" in my_dict)  # Output: False\n",
        "15.  Can you modify the elements of a tuple? Explain why or why not.\n",
        "     - No, you cannot modify the elements of a tuple in Python. This is because tuples are immutable, meaning once a tuple is created, its elements cannot be changed, added, or removed.\n",
        "\n",
        "    The immutability of tuples ensures that the data remains constant and protected throughout the program. This is useful when storing fixed data like coordinates, dates, or configuration settings. Attempting to modify any element of a tuple will result in a TypeError.\n",
        "16.  What is a nested dictionary, and give an example of its use case?\n",
        "     - A nested dictionary in Python is a dictionary that contains another dictionary as a value. It allows you to organize and store hierarchical or grouped data in a structured format.\n",
        "\n",
        "    Nested dictionaries are useful when working with complex data structures, such as storing information about multiple objects, where each object has its own set of attributes.\n",
        "    \n",
        "    Example:\n",
        "\n",
        "    students = {\n",
        "\n",
        "    \"101\": {\"name\": \"Alice\", \"age\": 20, \"grade\": \"A\"},\n",
        "\n",
        "    \"102\": {\"name\": \"Bob\", \"age\": 22, \"grade\": \"B\"},\n",
        "    }\n",
        "\n",
        "    print(students[\"101\"][\"name\"])  # Output: Alice\n",
        "\n",
        "    In this example, each student ID maps to another dictionary containing that student's details like name, age, and grade.\n",
        "\n",
        "    Use Case:\n",
        "    Nested dictionaries are ideal for storing records in databases, JSON-like data, or information about multiple items, such as user profiles, product details, or school records.\n",
        "17. Describe the time complexity of accessing elements in a dictionary?\n",
        "    - In Python, accessing elements in a dictionary has a time complexity of O(1) on average. This means that retrieving a value using its key is done in constant time, regardless of the size of the dictionary.\n",
        "\n",
        "    This efficiency is achieved because dictionaries are implemented using a hash table. When a key is used to access a value, Python computes the key’s hash value and uses it to directly locate the value in memory. However, in rare cases of hash collisions, the time complexity may degrade to O(n) in the worst case, but such scenarios are uncommon due to Python's optimized hash functions.\n",
        "18. In what situations are lists preferred over dictionaries?\n",
        "    - Lists are preferred over dictionaries in situations where:\n",
        "\n",
        "    a)Order Matters:\n",
        "    When the order of elements is important, as lists maintain the sequence in which items are added.\n",
        "\n",
        "    b)Index-Based Access Is Needed:\n",
        "    When you need to access elements using their position (index) rather than a key.\n",
        "\n",
        "    c)Data Doesn’t Require Key-Value Pairs:\n",
        "    When storing a simple collection of items without needing to associate each item with a key.\n",
        "\n",
        "    d)Iteration Over Sequence:\n",
        "    When you need to iterate through items in a specific order, such as processing items one by one.\n",
        "\n",
        "    e)Memory Efficiency for Small Datasets:\n",
        "    Lists typically use less memory than dictionaries when storing simple or small datasets.\n",
        "\n",
        "    f)Simple Tasks Like Sorting and Slicing:\n",
        "    Lists support built-in operations like sorting, reversing, and slicing, which are not directly available with dictionaries.\n",
        "19. Why are dictionaries considered unordered, and how does that affect data retrieval?\n",
        "    - Traditionally, dictionaries in Python were considered unordered because they did not maintain the order in which key-value pairs were added. This meant that when iterating over a dictionary, the items could appear in any order, making predictable ordering unreliable.\n",
        "\n",
        "    Effect on Data Retrieval:\n",
        "\n",
        "    Access by key is unaffected: Since dictionaries use keys to retrieve values, the order of insertion does not impact lookup performance.\n",
        "\n",
        "    Unreliable ordering (in older versions): In versions before Python 3.7, the lack of order could cause inconsistent iteration, which affected formatting, display, or comparison of dictionary contents.\n",
        "20. Explain the difference between a list and a dictionary in terms of data retrieval.\n",
        "    - In Python, lists and dictionaries are both used to store collections of data, but they differ significantly in how data is retrieved:\n",
        "\n",
        "    List:\n",
        "    A list retrieves data using index-based access. Each element in a list has a numeric index starting from 0, and values are accessed by their position.\n",
        "\n",
        "    Example:\n",
        "\n",
        "\n",
        "    my_list = [\"apple\", \"banana\", \"cherry\"]\n",
        "\n",
        "    print(my_list[1])  # Output: banana\n",
        "\n",
        "    Dictionary:\n",
        "\n",
        "    A dictionary retrieves data using key-based access. Each element is stored as a key-value pair, and values are accessed by their unique keys, not by position.\n",
        "\n",
        "    Example:\n",
        "\n",
        "my_dict = {\"fruit1\": \"apple\", \"fruit2\": \"banana\"}\n",
        "\n",
        "print(my_dict[\"fruit2\"])  # Output: banana.\n",
        "\n",
        "\n",
        "\n",
        "\n",
        "\n",
        "\n",
        "\n",
        "\n",
        "\n",
        "\n",
        "\n",
        "\n",
        "\n",
        "\n",
        "\n",
        "  \n"
      ],
      "metadata": {
        "id": "HL6EMN3qbx1b"
      }
    },
    {
      "cell_type": "code",
      "source": [
        "#1.Write a code to create a string with your name and print it.\n",
        "my_name = \"Abhijay\"\n",
        "print(\"My name is:\", my_name)"
      ],
      "metadata": {
        "colab": {
          "base_uri": "https://localhost:8080/"
        },
        "id": "JFDcDxmNxleO",
        "outputId": "56451cfa-cbab-4e94-f9a9-aedff72f45b8"
      },
      "execution_count": 8,
      "outputs": [
        {
          "output_type": "stream",
          "name": "stdout",
          "text": [
            "My name is: Abhijay\n"
          ]
        }
      ]
    },
    {
      "cell_type": "code",
      "source": [
        "#2.Write a code to find the length of the string \"Hello World\".\n",
        "string = \"Hello World\"\n",
        "length = len(string)\n",
        "print(\"The length of the string is:\", length)"
      ],
      "metadata": {
        "colab": {
          "base_uri": "https://localhost:8080/"
        },
        "id": "T6QA83__ylKf",
        "outputId": "407854aa-ee77-46a4-9a0e-38e55e99eed3"
      },
      "execution_count": 9,
      "outputs": [
        {
          "output_type": "stream",
          "name": "stdout",
          "text": [
            "The length of the string is: 11\n"
          ]
        }
      ]
    },
    {
      "cell_type": "code",
      "source": [
        "#3.Write a code to slice the first 3 characters from the string \"Python Programming\".\n",
        "string = \"Abhijay Sudan\"\n",
        "sliced_string = string[1:3]\n",
        "print(\"The sliced string is\", sliced_string)"
      ],
      "metadata": {
        "colab": {
          "base_uri": "https://localhost:8080/"
        },
        "id": "Ga2CosLsy5b5",
        "outputId": "bea6b20d-6e6b-433d-86fe-40454b2f8569"
      },
      "execution_count": 10,
      "outputs": [
        {
          "output_type": "stream",
          "name": "stdout",
          "text": [
            "The sliced string is bh\n"
          ]
        }
      ]
    },
    {
      "cell_type": "code",
      "source": [
        "#4.Write a code to convert the string \"hello\" to uppercase.\n",
        "string = \"hello\"\n",
        "uppercase_string = string.upper()\n",
        "print(uppercase_string)"
      ],
      "metadata": {
        "colab": {
          "base_uri": "https://localhost:8080/"
        },
        "id": "86zOblgbzhwr",
        "outputId": "8f1abbc2-2ede-469b-b968-89679d0f1faf"
      },
      "execution_count": 11,
      "outputs": [
        {
          "output_type": "stream",
          "name": "stdout",
          "text": [
            "HELLO\n"
          ]
        }
      ]
    },
    {
      "cell_type": "code",
      "source": [
        "#5.Write a code to replace the word \"apple\" with \"orange\" in the string \"I like apple\".\n",
        "string = \"I like apple\"\n",
        "replaced_string = string.replace(\"apple\", \"orange\")\n",
        "print(replaced_string)"
      ],
      "metadata": {
        "colab": {
          "base_uri": "https://localhost:8080/"
        },
        "id": "-HV2imhpz957",
        "outputId": "c46717b9-e016-40d3-8b6e-27721218d5ff"
      },
      "execution_count": 14,
      "outputs": [
        {
          "output_type": "stream",
          "name": "stdout",
          "text": [
            "I like orange\n"
          ]
        }
      ]
    },
    {
      "cell_type": "code",
      "source": [
        "#6.Write a code to create a list with numbers 1 to 5 and print it.\n",
        "lst = [1, 2, 3,4,5]\n",
        "print(lst)"
      ],
      "metadata": {
        "colab": {
          "base_uri": "https://localhost:8080/"
        },
        "id": "TIASi7T41LaH",
        "outputId": "246ff1db-a0bf-4f43-81a3-4b611613d2c1"
      },
      "execution_count": 15,
      "outputs": [
        {
          "output_type": "stream",
          "name": "stdout",
          "text": [
            "[1, 2, 3, 4, 5]\n"
          ]
        }
      ]
    },
    {
      "cell_type": "code",
      "source": [
        "#7.Write a code to append the number 10 to the list [1, 2, 3, 4].\n",
        "lst = [1, 2, 3, 4]\n",
        "lst.append(10)\n",
        "print(lst)"
      ],
      "metadata": {
        "colab": {
          "base_uri": "https://localhost:8080/"
        },
        "id": "hBF8lPHm1o2L",
        "outputId": "78fbd6c0-c65d-4faf-abd0-3c1c1f000099"
      },
      "execution_count": 23,
      "outputs": [
        {
          "output_type": "stream",
          "name": "stdout",
          "text": [
            "[1, 2, 3, 4, 10]\n"
          ]
        }
      ]
    },
    {
      "cell_type": "code",
      "source": [
        "#8.Write a code to remove the number 3 from the list [1, 2, 3, 4, 5].\n",
        "lst = [1, 2, 3, 4, 5]\n",
        "lst.remove(3)\n",
        "print(lst)"
      ],
      "metadata": {
        "colab": {
          "base_uri": "https://localhost:8080/"
        },
        "id": "WhBfy-lZ6Tum",
        "outputId": "63016b65-bc33-4a13-f343-1c25e71080e3"
      },
      "execution_count": 24,
      "outputs": [
        {
          "output_type": "stream",
          "name": "stdout",
          "text": [
            "[1, 2, 4, 5]\n"
          ]
        }
      ]
    },
    {
      "cell_type": "code",
      "source": [
        "#9.Write a code to access the second element in the list ['a', 'b', 'c', 'd']\n",
        "lst = ['a', 'b', 'c', 'd']\n",
        "second_element = lst[1]\n",
        "print(second_element)"
      ],
      "metadata": {
        "colab": {
          "base_uri": "https://localhost:8080/"
        },
        "id": "9acfbQ1R6cLp",
        "outputId": "fe1e67a1-89c5-493f-9fbf-098af2f6c8aa"
      },
      "execution_count": 25,
      "outputs": [
        {
          "output_type": "stream",
          "name": "stdout",
          "text": [
            "b\n"
          ]
        }
      ]
    },
    {
      "cell_type": "code",
      "source": [
        "#10.Write a code to reverse the list [10, 20, 30, 40, 50].\n",
        "lst = [10, 20, 30, 40, 50]\n",
        "reversed_lst = lst[::-1]\n",
        "print(reversed_lst)"
      ],
      "metadata": {
        "colab": {
          "base_uri": "https://localhost:8080/"
        },
        "id": "uz9eHUYZ6uUQ",
        "outputId": "41746bfa-81d3-4095-9590-c0c96be5324b"
      },
      "execution_count": 26,
      "outputs": [
        {
          "output_type": "stream",
          "name": "stdout",
          "text": [
            "[50, 40, 30, 20, 10]\n"
          ]
        }
      ]
    },
    {
      "cell_type": "code",
      "source": [
        "#11. Write a code to create a tuple with the elements 100, 200, 300 and print it.\n",
        "my_tuple = (100, 200, 300)\n",
        "print(my_tuple)"
      ],
      "metadata": {
        "colab": {
          "base_uri": "https://localhost:8080/"
        },
        "id": "OFaRLfntL5zc",
        "outputId": "7daeea73-2399-421d-fc1a-1d12dbe2b9dd"
      },
      "execution_count": 1,
      "outputs": [
        {
          "output_type": "stream",
          "name": "stdout",
          "text": [
            "(100, 200, 300)\n"
          ]
        }
      ]
    },
    {
      "cell_type": "code",
      "source": [
        "#12.Write a code to access the second-to-last element of the tuple ('red', 'green', 'blue', 'yellow').\n",
        "my_tuple = ('red', 'green', 'blue', 'yellow')\n",
        "second_to_last_element = my_tuple[-2]\n",
        "print(second_to_last_element)"
      ],
      "metadata": {
        "colab": {
          "base_uri": "https://localhost:8080/"
        },
        "id": "aAqanhhuMNCh",
        "outputId": "a26407bf-6fec-403d-c5b3-309d1cb3929f"
      },
      "execution_count": 2,
      "outputs": [
        {
          "output_type": "stream",
          "name": "stdout",
          "text": [
            "blue\n"
          ]
        }
      ]
    },
    {
      "cell_type": "code",
      "source": [
        "#13.Write a code to find the minimum number in the tuple (10, 20, 5, 15).\n",
        "my_tuple = (10, 20, 5, 15)\n",
        "minimum_number = min(my_tuple)\n",
        "print(minimum_number)"
      ],
      "metadata": {
        "colab": {
          "base_uri": "https://localhost:8080/"
        },
        "id": "VJqSsIWANJTQ",
        "outputId": "b8b9f716-337c-4ea0-d8c2-29a47a32b32f"
      },
      "execution_count": 3,
      "outputs": [
        {
          "output_type": "stream",
          "name": "stdout",
          "text": [
            "5\n"
          ]
        }
      ]
    },
    {
      "cell_type": "code",
      "source": [
        "#14.Write a code to find the index of the element \"cat\" in the tuple ('dog', 'cat', 'rabbit').\n",
        "my_tuple = ('dog', 'cat', 'rabbit')\n",
        "index_of_cat = my_tuple.index('cat')\n",
        "print(index_of_cat)\n"
      ],
      "metadata": {
        "colab": {
          "base_uri": "https://localhost:8080/"
        },
        "id": "cC7TuyArNlBz",
        "outputId": "bc04210e-0ccc-40fb-94a0-461496ef6647"
      },
      "execution_count": 4,
      "outputs": [
        {
          "output_type": "stream",
          "name": "stdout",
          "text": [
            "1\n"
          ]
        }
      ]
    },
    {
      "cell_type": "code",
      "source": [
        "#15.Write a code to create a tuple containing three different fruits and check if \"kiwi\" is in it.\n",
        "my_tuple = {\"apple\", \"mango\",\"kiwi\"}\n",
        "if \"kiwi\" in my_tuple:\n",
        "  print(\"kiwi is in my_tuple\")\n",
        "else:\n",
        "    print(\"kiwi is not in my my_tuple\")"
      ],
      "metadata": {
        "colab": {
          "base_uri": "https://localhost:8080/"
        },
        "id": "LHUoepT7OyvV",
        "outputId": "a5f392ab-f3df-4e75-8323-c009d6096878"
      },
      "execution_count": 6,
      "outputs": [
        {
          "output_type": "stream",
          "name": "stdout",
          "text": [
            "kiwi is in my_tuple\n"
          ]
        }
      ]
    },
    {
      "cell_type": "code",
      "source": [
        "#16.Write a code to create a set with the elements 'a', 'b', 'c' and print it.\n",
        "my_set = {\"a\", \"b\", \"c\"}\n",
        "print(my_set)"
      ],
      "metadata": {
        "colab": {
          "base_uri": "https://localhost:8080/"
        },
        "id": "ATYKOjL6Qvgg",
        "outputId": "572de6e0-2bfb-4c45-9ca9-de19c4e36bf6"
      },
      "execution_count": 7,
      "outputs": [
        {
          "output_type": "stream",
          "name": "stdout",
          "text": [
            "{'a', 'b', 'c'}\n"
          ]
        }
      ]
    },
    {
      "cell_type": "code",
      "source": [
        "#17.Write a code to clear all elements from the set {1, 2, 3, 4, 5}.\n",
        "my_set = {\"1\", \"2\", \"3\",\"4\", \"5\"}\n",
        "my_set.clear()\n",
        "print(my_set)"
      ],
      "metadata": {
        "colab": {
          "base_uri": "https://localhost:8080/"
        },
        "id": "bbvqFveXTqQf",
        "outputId": "496038d3-5afa-49cc-f123-266b026b0173"
      },
      "execution_count": 8,
      "outputs": [
        {
          "output_type": "stream",
          "name": "stdout",
          "text": [
            "set()\n"
          ]
        }
      ]
    },
    {
      "cell_type": "code",
      "source": [
        "#18.Write a code to remove the element 4 from the set {1, 2, 3, 4}.\n",
        "my_set = {\"1\", \"2\", \"3\", \"4\"}\n",
        "my_set.remove(\"4\")\n",
        "print(my_set)"
      ],
      "metadata": {
        "colab": {
          "base_uri": "https://localhost:8080/"
        },
        "id": "6v2r1MYwXmPQ",
        "outputId": "b771afaf-62a3-42a1-f772-1d6bb01bcbc6"
      },
      "execution_count": 9,
      "outputs": [
        {
          "output_type": "stream",
          "name": "stdout",
          "text": [
            "{'1', '2', '3'}\n"
          ]
        }
      ]
    },
    {
      "cell_type": "code",
      "source": [
        "#19.Write a code to find the union of two sets {1, 2, 3} and {3, 4, 5}.\n",
        "set1 = {\"1\", \"2\", \"3\"}\n",
        "set2 = {\"3\", \"4\", \"5\"}\n",
        "union_set = set1 | set2\n",
        "print(union_set)"
      ],
      "metadata": {
        "colab": {
          "base_uri": "https://localhost:8080/"
        },
        "id": "CPSP6fHaYHs7",
        "outputId": "486e80d6-28ec-4bc0-f422-15e1e169ef52"
      },
      "execution_count": 10,
      "outputs": [
        {
          "output_type": "stream",
          "name": "stdout",
          "text": [
            "{'2', '5', '3', '4', '1'}\n"
          ]
        }
      ]
    },
    {
      "cell_type": "code",
      "source": [
        "#20.Write a code to find the intersection of two sets {1, 2, 3} and {2, 3, 4}.\n",
        "set1 = {\"1\", \"2\", \"3\"}\n",
        "set2 = {\"2\", \"3\", \"4\"}\n",
        "intersection_set = set1 & set2\n",
        "print(intersection_set)"
      ],
      "metadata": {
        "colab": {
          "base_uri": "https://localhost:8080/"
        },
        "id": "WRGygQt9Y3i5",
        "outputId": "e3ea6976-f812-4c8d-a0ee-3380d4009f42"
      },
      "execution_count": 11,
      "outputs": [
        {
          "output_type": "stream",
          "name": "stdout",
          "text": [
            "{'2', '3'}\n"
          ]
        }
      ]
    },
    {
      "cell_type": "code",
      "source": [
        "#21.Write a code to create a dictionary with the keys \"name\", \"age\", and \"city\", and print it.\n",
        "my_dict = {'name': 'Abhijay', 'age': '21', 'city': 'Jammu'}\n",
        "print(my_dict)"
      ],
      "metadata": {
        "colab": {
          "base_uri": "https://localhost:8080/"
        },
        "id": "UgFt_aDSayby",
        "outputId": "e99aab68-fb40-4be4-afca-9b0537f2fd04"
      },
      "execution_count": 12,
      "outputs": [
        {
          "output_type": "stream",
          "name": "stdout",
          "text": [
            "{'name': 'Abhijay', 'age': '21', 'city': 'Jammu'}\n"
          ]
        }
      ]
    },
    {
      "cell_type": "code",
      "source": [
        "#22.Write a code to add a new key-value pair \"country\": \"USA\" to the dictionary {'name': 'John', 'age': 25}.\n",
        "my_dict = {'name': 'John', 'age': '25'}\n",
        "my_dict['country'] = 'USA'\n",
        "print(my_dict)"
      ],
      "metadata": {
        "colab": {
          "base_uri": "https://localhost:8080/"
        },
        "id": "kckN1XC_b1tG",
        "outputId": "22aae085-49ad-4723-a177-08000fff6e97"
      },
      "execution_count": 14,
      "outputs": [
        {
          "output_type": "stream",
          "name": "stdout",
          "text": [
            "{'name': 'John', 'age': '25', 'country': 'USA'}\n"
          ]
        }
      ]
    },
    {
      "cell_type": "code",
      "source": [
        "#23.Write a code to access the value associated with the key \"name\" in the dictionary {'name': 'Alice', 'age': 30}.\n",
        "my_dict = {'name': 'Alice', 'age': '30'}\n",
        "value = my_dict['name']\n",
        "print(value)"
      ],
      "metadata": {
        "colab": {
          "base_uri": "https://localhost:8080/"
        },
        "id": "RvsPVG0xhtxr",
        "outputId": "0e4016f7-5c1a-4392-d024-5487ee426453"
      },
      "execution_count": 16,
      "outputs": [
        {
          "output_type": "stream",
          "name": "stdout",
          "text": [
            "Alice\n"
          ]
        }
      ]
    },
    {
      "cell_type": "code",
      "source": [
        "#24.Write a code to remove the key \"age\" from the dictionary {'name': 'Bob', 'age': 22, 'city': 'New York'}.\n",
        "my_dict = {'name': 'Bob', 'age': '22', 'city': 'New York'}\n",
        "del my_dict['age']\n",
        "print(my_dict)\n"
      ],
      "metadata": {
        "colab": {
          "base_uri": "https://localhost:8080/"
        },
        "id": "nrA78ZtgkK3e",
        "outputId": "edd3102c-c8c7-45d9-a881-cdb2050652f2"
      },
      "execution_count": 17,
      "outputs": [
        {
          "output_type": "stream",
          "name": "stdout",
          "text": [
            "{'name': 'Bob', 'city': 'New York'}\n"
          ]
        }
      ]
    },
    {
      "cell_type": "code",
      "source": [
        "#25.Write a code to check if the key \"city\" exists in the dictionary {'name': 'Alice', 'city': 'Paris'}.\n",
        "my_dict = {'name': 'Alice', 'city': 'Paris'}\n",
        "if 'city' in my_dict:\n",
        "    print(\"The key 'city' exists in the dictionary.\")\n",
        "else:\n",
        "    print(\"The key 'city' does not exist in the dictionary.\")"
      ],
      "metadata": {
        "colab": {
          "base_uri": "https://localhost:8080/"
        },
        "id": "nIzQTIYFkcZi",
        "outputId": "f4e7f762-09d7-4a93-a307-170579151310"
      },
      "execution_count": 18,
      "outputs": [
        {
          "output_type": "stream",
          "name": "stdout",
          "text": [
            "The key 'city' exists in the dictionary.\n"
          ]
        }
      ]
    },
    {
      "cell_type": "code",
      "source": [
        "#26.Write a code to create a list, a tuple, and a dictionary, and print them all.\n",
        "my_lst = [1, 2, 3, 4, 5]\n",
        "my_tuple = (\"Abhijay\", 2, 3, 8)\n",
        "my_dict = {\"name\": \"Abhijay\", \"address\": \"Jammu\"}\n",
        "print(my_lst)\n",
        "print(my_tuple)\n",
        "print(my_dict)"
      ],
      "metadata": {
        "colab": {
          "base_uri": "https://localhost:8080/"
        },
        "id": "2TsT3OwOERen",
        "outputId": "e6f95670-b86f-4c80-bb24-8cd9305deb04"
      },
      "execution_count": 3,
      "outputs": [
        {
          "output_type": "stream",
          "name": "stdout",
          "text": [
            "[1, 2, 3, 4, 5]\n",
            "('Abhijay', 2, 3, 8)\n",
            "{'name': 'Abhijay', 'address': 'Jammu'}\n"
          ]
        }
      ]
    },
    {
      "cell_type": "code",
      "source": [
        "#27.Write a code to create a list of 5 random numbers between 1 and 100, sort it in ascending order, and print the result.(replaced)\n",
        "import random\n",
        "numbers = random.sample(range(1, 101),5)\n",
        "numbers.sort()\n",
        "print(\"Sorted list of random numbers:\", numbers)\n",
        "\n"
      ],
      "metadata": {
        "colab": {
          "base_uri": "https://localhost:8080/"
        },
        "id": "Mb2jq2wqFG30",
        "outputId": "918d1da0-7009-4fd0-bcf9-68f304f254c2"
      },
      "execution_count": 11,
      "outputs": [
        {
          "output_type": "stream",
          "name": "stdout",
          "text": [
            "Sorted list of random numbers: [7, 20, 41, 47, 51]\n"
          ]
        }
      ]
    },
    {
      "cell_type": "code",
      "source": [
        "#28.Write a code to create a list with strings and print the element at the third index.\n",
        "my_list = [\"apple\", \"banana\", \"cherry\", \"date\", \"elderberry\"]\n",
        "print(my_list[3])"
      ],
      "metadata": {
        "colab": {
          "base_uri": "https://localhost:8080/"
        },
        "id": "xsw5HinjLH5z",
        "outputId": "6b45aa10-f672-4278-92c1-5afcca963b60"
      },
      "execution_count": 12,
      "outputs": [
        {
          "output_type": "stream",
          "name": "stdout",
          "text": [
            "date\n"
          ]
        }
      ]
    },
    {
      "cell_type": "code",
      "source": [
        "#29.Write a code to combine two dictionaries into one and print the result.\n",
        "dict1 = {\"a\": 1, \"b\": 2}\n",
        "dict2 = {\"c\": 3, \"d\": 4}\n",
        "combined_dict = {**dict1, **dict2}\n",
        "print(combined_dict)"
      ],
      "metadata": {
        "colab": {
          "base_uri": "https://localhost:8080/"
        },
        "id": "uWhc_oDMLepT",
        "outputId": "9576bc54-b63a-47c3-d637-9e744fc30c74"
      },
      "execution_count": 13,
      "outputs": [
        {
          "output_type": "stream",
          "name": "stdout",
          "text": [
            "{'a': 1, 'b': 2, 'c': 3, 'd': 4}\n"
          ]
        }
      ]
    },
    {
      "cell_type": "code",
      "source": [
        "#30.Write a code to convert a list of strings into a set.\n",
        "lst = [\"b\", \"n\", \"hello\", \"a\", \"f\"]\n",
        "set_lst = set(lst)\n",
        "print(set_lst)"
      ],
      "metadata": {
        "colab": {
          "base_uri": "https://localhost:8080/"
        },
        "id": "qkb4gZNKPWez",
        "outputId": "b890fa04-f35d-4ab4-ec0a-563e10bfc757"
      },
      "execution_count": 15,
      "outputs": [
        {
          "output_type": "stream",
          "name": "stdout",
          "text": [
            "{'n', 'f', 'b', 'hello', 'a'}\n"
          ]
        }
      ]
    }
  ]
}